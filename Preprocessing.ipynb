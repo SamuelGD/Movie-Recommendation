{
 "cells": [
  {
   "cell_type": "code",
   "execution_count": 43,
   "metadata": {
    "collapsed": true
   },
   "outputs": [],
   "source": [
    "import numpy as np\n",
    "from collections import defaultdict\n",
    "import pandas as pd"
   ]
  },
  {
   "cell_type": "code",
   "execution_count": 44,
   "metadata": {
    "collapsed": false
   },
   "outputs": [],
   "source": [
    "dataset_path = \"datasets/rating.csv\"\n",
    "n_most_rated_movies = 10000\n",
    "min_rated_movies = 1\n",
    "output_file = \"storage.npz\""
   ]
  },
  {
   "cell_type": "code",
   "execution_count": 45,
   "metadata": {
    "collapsed": false
   },
   "outputs": [
    {
     "data": {
      "text/html": [
       "<div>\n",
       "<table border=\"1\" class=\"dataframe\">\n",
       "  <thead>\n",
       "    <tr style=\"text-align: right;\">\n",
       "      <th></th>\n",
       "      <th>userId</th>\n",
       "      <th>movieId</th>\n",
       "      <th>rating</th>\n",
       "    </tr>\n",
       "  </thead>\n",
       "  <tbody>\n",
       "    <tr>\n",
       "      <th>4182421</th>\n",
       "      <td>28507</td>\n",
       "      <td>1176</td>\n",
       "      <td>4</td>\n",
       "    </tr>\n",
       "    <tr>\n",
       "      <th>18950979</th>\n",
       "      <td>131160</td>\n",
       "      <td>1079</td>\n",
       "      <td>3</td>\n",
       "    </tr>\n",
       "    <tr>\n",
       "      <th>18950936</th>\n",
       "      <td>131160</td>\n",
       "      <td>47</td>\n",
       "      <td>5</td>\n",
       "    </tr>\n",
       "    <tr>\n",
       "      <th>18950930</th>\n",
       "      <td>131160</td>\n",
       "      <td>21</td>\n",
       "      <td>3</td>\n",
       "    </tr>\n",
       "    <tr>\n",
       "      <th>12341178</th>\n",
       "      <td>85252</td>\n",
       "      <td>45</td>\n",
       "      <td>3</td>\n",
       "    </tr>\n",
       "  </tbody>\n",
       "</table>\n",
       "</div>"
      ],
      "text/plain": [
       "          userId  movieId  rating\n",
       "4182421    28507     1176       4\n",
       "18950979  131160     1079       3\n",
       "18950936  131160       47       5\n",
       "18950930  131160       21       3\n",
       "12341178   85252       45       3"
      ]
     },
     "execution_count": 45,
     "metadata": {},
     "output_type": "execute_result"
    }
   ],
   "source": [
    "df = pd.read_csv(dataset_path, sep=',', parse_dates=['timestamp'])\n",
    "df.sort_values('timestamp', inplace=True)\n",
    "df = df.drop('timestamp', 1)\n",
    "df.head()"
   ]
  },
  {
   "cell_type": "code",
   "execution_count": 46,
   "metadata": {
    "collapsed": false
   },
   "outputs": [
    {
     "name": "stdout",
     "output_type": "stream",
     "text": [
      "All profiled loaded\n"
     ]
    }
   ],
   "source": [
    "movie_count = df['movieId'].value_counts()\n",
    "most_frequent_movies = movie_count.index.tolist()\n",
    "np.random.shuffle(most_frequent_movies) # RANDOM MOVIES\n",
    "\n",
    "movie_ids = most_frequent_movies[:n_most_rated_movies] # 1000 most rated movies\n",
    "\n",
    "all_movies = set(movie_ids)\n",
    "\n",
    "all_profiles = defaultdict(list)\n",
    "\n",
    "for line in df.values:\n",
    "    uid = int(line[0])\n",
    "    mid = int(line[1])\n",
    "    \n",
    "    if mid not in all_movies:\n",
    "        continue\n",
    "        \n",
    "    rat = float(line[2])\n",
    "    \n",
    "    all_profiles[uid].append((mid, rat))\n",
    "    \n",
    "print(\"All profiled loaded\")"
   ]
  },
  {
   "cell_type": "code",
   "execution_count": 47,
   "metadata": {
    "collapsed": false
   },
   "outputs": [
    {
     "name": "stdout",
     "output_type": "stream",
     "text": [
      "Number of users: 138492\n"
     ]
    }
   ],
   "source": [
    "keys = list(all_profiles.keys())\n",
    "for i in keys:\n",
    "    if len(all_profiles[i]) < min_rated_movies:\n",
    "        del all_profiles[i]\n",
    "\n",
    "print(\"Number of users: %d\" % len(all_profiles.keys()))"
   ]
  },
  {
   "cell_type": "code",
   "execution_count": 48,
   "metadata": {
    "collapsed": false
   },
   "outputs": [
    {
     "name": "stdout",
     "output_type": "stream",
     "text": [
      "Users and ratings loaded\n"
     ]
    }
   ],
   "source": [
    "ids = list(all_profiles.keys())\n",
    "np.random.shuffle(ids)\n",
    "\n",
    "ids = ids[:946]\n",
    "\n",
    "profiles = defaultdict(list)\n",
    "tests = defaultdict(list)\n",
    "\n",
    "for i in ids:\n",
    "    movies = all_profiles[i]\n",
    "    limit = int(0.75*len(movies))\n",
    "    profiles[i] = movies[:limit]\n",
    "    tests[i] = movies[limit:]\n",
    "\n",
    "all_movies = list(all_movies)\n",
    "\n",
    "print(\"Users and ratings loaded\")"
   ]
  },
  {
   "cell_type": "code",
   "execution_count": 49,
   "metadata": {
    "collapsed": false
   },
   "outputs": [
    {
     "name": "stdout",
     "output_type": "stream",
     "text": [
      "Train size: 36935\n",
      "Test size: 12784\n"
     ]
    }
   ],
   "source": [
    "train_size = 0\n",
    "test_size = 0\n",
    "\n",
    "for i in profiles.keys():\n",
    "    train_size += len(profiles[i])\n",
    "    \n",
    "for i in tests.keys():\n",
    "    test_size += len(tests[i])\n",
    "    \n",
    "print(\"Train size: %d\" % train_size)\n",
    "print(\"Test size: %d\" % test_size)"
   ]
  },
  {
   "cell_type": "code",
   "execution_count": 50,
   "metadata": {
    "collapsed": true
   },
   "outputs": [],
   "source": [
    "np.savez(output_file, all_movies=all_movies, profiles=profiles, tests=tests)"
   ]
  },
  {
   "cell_type": "code",
   "execution_count": null,
   "metadata": {
    "collapsed": true
   },
   "outputs": [],
   "source": []
  }
 ],
 "metadata": {
  "kernelspec": {
   "display_name": "Python 2",
   "language": "python",
   "name": "python2"
  },
  "language_info": {
   "codemirror_mode": {
    "name": "ipython",
    "version": 2
   },
   "file_extension": ".py",
   "mimetype": "text/x-python",
   "name": "python",
   "nbconvert_exporter": "python",
   "pygments_lexer": "ipython2",
   "version": "2.7.11"
  }
 },
 "nbformat": 4,
 "nbformat_minor": 0
}
